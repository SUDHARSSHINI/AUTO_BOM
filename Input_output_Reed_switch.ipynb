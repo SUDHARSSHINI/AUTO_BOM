{
  "nbformat": 4,
  "nbformat_minor": 0,
  "metadata": {
    "colab": {
      "provenance": [],
      "authorship_tag": "ABX9TyOuTrRwRL6QLh8kUj6NyI+U",
      "include_colab_link": true
    },
    "kernelspec": {
      "name": "python3",
      "display_name": "Python 3"
    },
    "language_info": {
      "name": "python"
    }
  },
  "cells": [
    {
      "cell_type": "markdown",
      "metadata": {
        "id": "view-in-github",
        "colab_type": "text"
      },
      "source": [
        "<a href=\"https://colab.research.google.com/github/SUDHARSSHINI/AUTO_BOM/blob/main/Input_output_Reed_switch.ipynb\" target=\"_parent\"><img src=\"https://colab.research.google.com/assets/colab-badge.svg\" alt=\"Open In Colab\"/></a>"
      ]
    },
    {
      "cell_type": "code",
      "execution_count": 1,
      "metadata": {
        "colab": {
          "base_uri": "https://localhost:8080/"
        },
        "id": "KDZieHyE4L8x",
        "outputId": "1913ab6a-ec75-49c9-f1fd-52879068f790"
      },
      "outputs": [
        {
          "output_type": "stream",
          "name": "stdout",
          "text": [
            "Number of columns in the dataset: 9\n",
            "Processed Data:\n",
            "           Category                Model   Description Quantity Unit  \\\n",
            "0                                                                      \n",
            "1  PERFORMANCE TEST    MGPM16-125AZ-M9PL      GUIDE CY      1.0  NOS   \n",
            "2  PERFORMANCE TEST       AS1201F-M5-06A  FLOW CONTROL      2.0  NOS   \n",
            "3  PERFORMANCE TEST  CD85N25-150C-B-M9PL     PENCEL CY      1.0  NOS   \n",
            "4  PERFORMANCE TEST       AS2201F-01-08A  FLOW CONTROL      2.0  NOS   \n",
            "\n",
            "            Type  Output Ports  Input Ports Extra Column  \n",
            "0                            0            0               \n",
            "1  Double acting             2            2               \n",
            "2                            0            0               \n",
            "3  Double acting             2            2               \n",
            "4                            0            0               \n",
            "Processed data saved as '/content/processed_dataset.csv'\n"
          ]
        },
        {
          "output_type": "stream",
          "name": "stderr",
          "text": [
            "<ipython-input-1-335d16730cfb>:32: FutureWarning: Setting an item of incompatible dtype is deprecated and will raise an error in a future version of pandas. Value '' has dtype incompatible with float64, please explicitly cast to a compatible dtype first.\n",
            "  df.fillna('', inplace=True)\n"
          ]
        }
      ],
      "source": [
        "# Import necessary libraries\n",
        "import pandas as pd\n",
        "import re\n",
        "\n",
        "# Load the data from the file path (replace 'file_path' with your actual path in Colab)\n",
        "file_path = '/content/ADNA data.xlsx'\n",
        "df = pd.read_excel(file_path, header=None)  # Read without headers as the data seems unstructured\n",
        "\n",
        "# Check the number of columns in the dataframe to determine the exact structure\n",
        "print(f\"Number of columns in the dataset: {len(df.columns)}\")\n",
        "\n",
        "# Assign column headers based on the number of columns detected\n",
        "# Assuming there are 9 columns here, if not, adjust headers to match the count\n",
        "df.columns = [\"Category\", \"Model\", \"Description\", \"Quantity\", \"Unit\", \"Type\", \"Output Ports\", \"Input Ports\", \"Extra Column\"]\n",
        "\n",
        "# Step 2: Forward fill 'Category' column to fill in missing categories\n",
        "df['Category'] = df['Category'].replace('', pd.NA).ffill()\n",
        "\n",
        "# Step 3: Convert 'Output Ports' and 'Input Ports' to numeric values\n",
        "def extract_number(port_str):\n",
        "    \"\"\"Extracts the first integer from a string if present, otherwise returns 0.\"\"\"\n",
        "    if isinstance(port_str, str):\n",
        "        numbers = [int(s) for s in re.findall(r'\\b\\d+\\b', port_str)]\n",
        "        return numbers[0] if numbers else 0\n",
        "    return 0\n",
        "\n",
        "# Apply the extraction function\n",
        "df['Output Ports'] = df['Output Ports'].apply(extract_number)\n",
        "df['Input Ports'] = df['Input Ports'].apply(extract_number)\n",
        "\n",
        "# Fill other missing values with empty strings for a cleaner dataset\n",
        "df.fillna('', inplace=True)\n",
        "\n",
        "# Display the processed data (optional)\n",
        "print(\"Processed Data:\")\n",
        "print(df.head())\n",
        "\n",
        "# Step 4: Save the processed data to a new CSV file\n",
        "processed_file_path = '/content/processed_dataset.csv'\n",
        "df.to_csv(processed_file_path, index=False)\n",
        "print(f\"Processed data saved as '{processed_file_path}'\")\n"
      ]
    },
    {
      "cell_type": "code",
      "source": [
        "# Assuming df is your processed DataFrame from the previous steps\n",
        "\n",
        "# Step 1: Get the total count of inputs from 'Reedswitch'\n",
        "reedswitch_input_count = df[df['Model'].str.contains('reedswitch', case=False, na=False)]['Input Ports'].sum()\n",
        "print(f\"Total Input Ports from Reedswitch: {reedswitch_input_count}\")\n",
        "\n",
        "# Step 2: Get the output ports for all cylinders\n",
        "cylinder_output = df[df['Description'].str.contains('cylinder', case=False, na=False)][['Model', 'Output Ports']]\n",
        "print(\"Output Ports for Cylinders:\")\n",
        "print(cylinder_output)\n"
      ],
      "metadata": {
        "colab": {
          "base_uri": "https://localhost:8080/"
        },
        "id": "L4pfB_z27KV1",
        "outputId": "b2aa1ee1-3c78-471f-e89d-adaeddace1a1"
      },
      "execution_count": 4,
      "outputs": [
        {
          "output_type": "stream",
          "name": "stdout",
          "text": [
            "Total Input Ports from Reedswitch: 0\n",
            "Output Ports for Cylinders:\n",
            "                     Model  Output Ports\n",
            "8        MDB1B63-250Z-M9PL             0\n",
            "35       MDB1B63-250Z-M9PL             0\n",
            "59  MDB1B50-125BZ-M9PL-XC8             0\n",
            "73       MDB1B80-100BZ-XC8             0\n",
            "90             MDB1B40-25Z             0\n",
            "92       MDB1B80-250Z-M9PL             0\n"
          ]
        }
      ]
    },
    {
      "cell_type": "code",
      "source": [
        "import pandas as pd\n",
        "import re\n",
        "\n",
        "# Load the data from the CSV file\n",
        "file_path = '/content/processed_dataset.csv'\n",
        "df = pd.read_csv(file_path)  # Use read_csv for CSV files\n",
        "\n",
        "# Assign column headers (update this according to your actual data structure)\n",
        "df.columns = [\"Category\", \"Model\", \"Description\", \"Quantity\", \"Unit\", \"Type\", \"Output Ports\", \"Input Ports\", \"Extra Column\"]\n",
        "\n",
        "# Step 1: Clean the 'Output Ports' and 'Input Ports' columns to extract numeric values\n",
        "def extract_number(port_str):\n",
        "    \"\"\"Extracts the first integer from a string if present, otherwise returns 0.\"\"\"\n",
        "    if isinstance(port_str, str):\n",
        "        numbers = [int(s) for s in re.findall(r'\\b\\d+\\b', port_str)]\n",
        "        return numbers[0] if numbers else 0\n",
        "    return 0\n",
        "\n",
        "df['Output Ports'] = df['Output Ports'].apply(extract_number)\n",
        "df['Input Ports'] = df['Input Ports'].apply(extract_number)\n",
        "\n",
        "# Check if \"reed switch\" or \"cylinder\" entries exist in the Description column\n",
        "print(\"Unique values in 'Description' column:\")\n",
        "print(df['Description'].unique())\n",
        "\n",
        "# Step 2: Filter rows to find \"cylinder\" and \"reed switch\" data\n",
        "reed_switch_data = df[df['Description'].str.contains('reed switch', case=False, na=False)]\n",
        "cylinder_data = df[df['Description'].str.contains('cylinder', case=False, na=False)]\n",
        "\n",
        "# Step 3: Extract the necessary input and output information\n",
        "reed_switch_input_quantity = reed_switch_data['Input Ports'].sum() if not reed_switch_data.empty else 0\n",
        "reed_switch_output_quantity = reed_switch_data['Output Ports'].sum() if not reed_switch_data.empty else 0\n",
        "cylinder_output_quantity = cylinder_data['Output Ports'].sum() if not cylinder_data.empty else 0\n",
        "\n",
        "# Step 4: Display the results\n",
        "if not reed_switch_data.empty:\n",
        "    print(\"\\nReed Switch Data:\")\n",
        "    print(reed_switch_data[['Model', 'Input Ports', 'Output Ports']])\n",
        "else:\n",
        "    print(\"\\nNo data found for reed switch.\")\n",
        "\n",
        "if not cylinder_data.empty:\n",
        "    print(\"\\nCylinder Data:\")\n",
        "    print(cylinder_data[['Model', 'Input Ports', 'Output Ports']])\n",
        "else:\n",
        "    print(\"\\nNo data found for cylinders.\")\n",
        "\n",
        "print(f\"\\nTotal Inputs from Reed Switch: {reed_switch_input_quantity}\")\n",
        "print(f\"Total Outputs from Reed Switch: {reed_switch_output_quantity}\")\n",
        "print(f\"Total Outputs of Cylinder: {cylinder_output_quantity}\")\n"
      ],
      "metadata": {
        "colab": {
          "base_uri": "https://localhost:8080/"
        },
        "id": "IqeHBZJ39MrC",
        "outputId": "5023b49f-2f86-42d9-a170-074ef152dbf7"
      },
      "execution_count": 6,
      "outputs": [
        {
          "output_type": "stream",
          "name": "stdout",
          "text": [
            "Unique values in 'Description' column:\n",
            "[nan 'GUIDE CY' 'FLOW CONTROL' 'PENCEL CY' 'GRIPPER' 'SQ CYLINDER'\n",
            " 'COMPACT CY' 'ELE ACTUATOR' 'ST AD CY' 'DUAL STOCK CY' 'FLOATING JOINT'\n",
            " 'AD CYLINDER' 'ROTARY' 'stopper cy']\n",
            "\n",
            "No data found for reed switch.\n",
            "\n",
            "Cylinder Data:\n",
            "                     Model  Input Ports  Output Ports\n",
            "8        MDB1B63-250Z-M9PL            0             0\n",
            "35       MDB1B63-250Z-M9PL            0             0\n",
            "59  MDB1B50-125BZ-M9PL-XC8            0             0\n",
            "73       MDB1B80-100BZ-XC8            0             0\n",
            "90             MDB1B40-25Z            0             0\n",
            "92       MDB1B80-250Z-M9PL            0             0\n",
            "\n",
            "Total Inputs from Reed Switch: 0\n",
            "Total Outputs from Reed Switch: 0\n",
            "Total Outputs of Cylinder: 0\n"
          ]
        }
      ]
    },
    {
      "cell_type": "code",
      "source": [
        "import pandas as pd\n",
        "import re\n",
        "\n",
        "# Load the data from the CSV file\n",
        "file_path = '/content/processed_dataset.csv'\n",
        "df = pd.read_csv(file_path)  # Use read_csv for CSV files\n",
        "\n",
        "# Assign column headers\n",
        "df.columns = [\"Category\", \"Model\", \"Description\", \"Quantity\", \"Unit\", \"Type\", \"Output Ports\", \"Input Ports\", \"Extra Column\"]\n",
        "\n",
        "# Step 1: Clean the 'Output Ports' and 'Input Ports' columns to extract numeric values\n",
        "def extract_number(port_str):\n",
        "    \"\"\"Extracts the first integer from a string if present, otherwise returns 0.\"\"\"\n",
        "    if isinstance(port_str, str):\n",
        "        numbers = [int(s) for s in re.findall(r'\\b\\d+\\b', port_str)]\n",
        "        return numbers[0] if numbers else 0\n",
        "    return 0\n",
        "\n",
        "df['Output Ports'] = df['Output Ports'].apply(extract_number)\n",
        "df['Input Ports'] = df['Input Ports'].apply(extract_number)\n",
        "\n",
        "# Remove rows with null values in any column\n",
        "df = df.dropna()\n",
        "\n",
        "# Step 2: Filter out cylinder-related entries to focus on other components\n",
        "non_cylinder_data = df[~df['Description'].str.contains('CY|CYLINDER', case=False, na=False)]\n",
        "\n",
        "# Step 3: Calculate summary statistics for each unique component in the 'Description' column\n",
        "component_summary = non_cylinder_data.groupby('Description').agg({\n",
        "    'Quantity': 'sum',\n",
        "    'Input Ports': 'sum',\n",
        "    'Output Ports': 'sum'\n",
        "}).reset_index()\n",
        "\n",
        "# Step 4: Display the results\n",
        "print(\"\\nSummary of All Non-Cylinder Components:\")\n",
        "print(component_summary)\n"
      ],
      "metadata": {
        "colab": {
          "base_uri": "https://localhost:8080/"
        },
        "id": "qZzRMApuAXMP",
        "outputId": "8f76bc99-fd94-4f10-f656-4e21d5b3cff2"
      },
      "execution_count": 12,
      "outputs": [
        {
          "output_type": "stream",
          "name": "stdout",
          "text": [
            "\n",
            "Summary of All Non-Cylinder Components:\n",
            "Empty DataFrame\n",
            "Columns: [Description, Quantity, Input Ports, Output Ports]\n",
            "Index: []\n"
          ]
        }
      ]
    },
    {
      "cell_type": "code",
      "source": [
        "import pandas as pd\n",
        "\n",
        "# Sample data setup (replace this with your actual data load step)\n",
        "data = pd.read_csv('/content/processed_dataset.csv')  # Replace 'your_data.csv' with your file path\n",
        "\n",
        "# Step 1: Clean and preprocess data\n",
        "# Remove rows where all columns are NaN\n",
        "data = data.dropna(how='all')\n",
        "\n",
        "# Fill missing values in specific columns with appropriate defaults\n",
        "data['Quantity'] = data['Quantity'].fillna(0)\n",
        "data['Input Ports'] = data['Input Ports'].fillna(0)\n",
        "data['Output Ports'] = data['Output Ports'].fillna(0)\n",
        "data['Description'] = data['Description'].fillna('Unknown')\n",
        "\n",
        "# Ensure numeric columns are of correct type\n",
        "data['Quantity'] = data['Quantity'].astype(int)\n",
        "data['Input Ports'] = data['Input Ports'].astype(int)\n",
        "data['Output Ports'] = data['Output Ports'].astype(int)\n",
        "\n",
        "# Step 2: Filter for Guide Cylinders and other components\n",
        "guide_cylinders = data[data['Description'].str.contains('GUIDE CY', case=False, na=False)]\n",
        "\n",
        "# Step 3: Summarize data\n",
        "# Summarize Guide Cylinders by Category, Type, and Quantity\n",
        "guide_summary = guide_cylinders.groupby(['Category', 'Type']).agg({\n",
        "    'Quantity': 'sum',\n",
        "    'Input Ports': 'sum',\n",
        "    'Output Ports': 'sum'\n",
        "}).reset_index()\n",
        "\n",
        "# Display the Guide Cylinder summary\n",
        "print(\"\\nGuide Cylinder Summary:\")\n",
        "print(guide_summary)\n",
        "\n",
        "# Step 4: Additional Analysis\n",
        "# Count the total components by Type and Category\n",
        "component_summary = data.groupby(['Category', 'Type']).agg({\n",
        "    'Quantity': 'sum',\n",
        "    'Input Ports': 'sum',\n",
        "    'Output Ports': 'sum'\n",
        "}).reset_index()\n",
        "\n",
        "# Display the component summary\n",
        "print(\"\\nSummary of All Components by Category and Type:\")\n",
        "print(component_summary)\n"
      ],
      "metadata": {
        "colab": {
          "base_uri": "https://localhost:8080/"
        },
        "id": "4cLOAqLXL-QJ",
        "outputId": "5d594153-2d19-458e-f3f1-6772b5f69d98"
      },
      "execution_count": 14,
      "outputs": [
        {
          "output_type": "stream",
          "name": "stdout",
          "text": [
            "\n",
            "Guide Cylinder Summary:\n",
            "                Category           Type  Quantity  Input Ports  Output Ports\n",
            "0              LEAK TEST  Double acting         3            4             4\n",
            "1       PERFORMANCE TEST  Double acting         1            2             2\n",
            "2  PISTON PICK AND PLACE  Double acting         1            2             2\n",
            "3                   SEAL  Double acting         2            4             4\n",
            "4            STRUCK TEST  Double acting         3            4             4\n",
            "\n",
            "Summary of All Components by Category and Type:\n",
            "                 Category                 Type  Quantity  Input Ports  \\\n",
            "0             BIN FEEDING        Double acting         2            4   \n",
            "1               LEAK TEST        Double acting        17           12   \n",
            "2          PALLET LIFTING        Double acting         9            2   \n",
            "3        PERFORMANCE TEST        Double acting         2            4   \n",
            "4   PISTON PICK AND PLACE        Double acting         3            6   \n",
            "5   PISTON PICK AND PLACE  servo/stepper motor         1            2   \n",
            "6        SCREW TIGHTENING        Double acting         3            6   \n",
            "7                    SEAL        Double acting         2            4   \n",
            "8                    SEAL        servo/stepper         1            2   \n",
            "9             STRUCK TEST        Double acting         6            8   \n",
            "10          TRANSFER UNIT        Double acting         2            2   \n",
            "\n",
            "    Output Ports  \n",
            "0              4  \n",
            "1             12  \n",
            "2              2  \n",
            "3              4  \n",
            "4              6  \n",
            "5              1  \n",
            "6              6  \n",
            "7              4  \n",
            "8              2  \n",
            "9              8  \n",
            "10             2  \n"
          ]
        }
      ]
    },
    {
      "cell_type": "code",
      "source": [
        "import pandas as pd\n",
        "\n",
        "# Assuming data is already loaded from processed_dataset.csv\n",
        "data = pd.read_csv('/content/processed_dataset.csv')\n",
        "\n",
        "# Step 1: Summarize total input and output ports across categories\n",
        "port_summary = data.groupby(['Category', 'Type']).agg({\n",
        "    'Quantity': 'sum',\n",
        "    'Input Ports': 'sum',\n",
        "    'Output Ports': 'sum'\n",
        "}).reset_index()\n",
        "\n",
        "# Step 2: Calculate total input and output ports across all categories and types\n",
        "total_ports = port_summary[['Input Ports', 'Output Ports']].sum()\n",
        "\n",
        "# Display the summary\n",
        "print(\"Summary of Input and Output Ports by Category and Type:\")\n",
        "print(port_summary)\n",
        "\n",
        "# Display total input and output ports\n",
        "print(\"\\nTotal Input and Output Ports Across All Components:\")\n",
        "print(total_ports)\n"
      ],
      "metadata": {
        "colab": {
          "base_uri": "https://localhost:8080/"
        },
        "id": "BqueQfW1OVdR",
        "outputId": "c394cdbf-db42-4916-ab10-5750e6bc48a5"
      },
      "execution_count": 15,
      "outputs": [
        {
          "output_type": "stream",
          "name": "stdout",
          "text": [
            "Summary of Input and Output Ports by Category and Type:\n",
            "                 Category                 Type  Quantity  Input Ports  \\\n",
            "0             BIN FEEDING        Double acting       2.0            4   \n",
            "1               LEAK TEST        Double acting      17.0           12   \n",
            "2          PALLET LIFTING        Double acting       9.0            2   \n",
            "3        PERFORMANCE TEST        Double acting       2.0            4   \n",
            "4   PISTON PICK AND PLACE        Double acting       3.0            6   \n",
            "5   PISTON PICK AND PLACE  servo/stepper motor       1.0            2   \n",
            "6        SCREW TIGHTENING        Double acting       3.0            6   \n",
            "7                    SEAL        Double acting       2.0            4   \n",
            "8                    SEAL        servo/stepper       1.0            2   \n",
            "9             STRUCK TEST        Double acting       6.0            8   \n",
            "10          TRANSFER UNIT        Double acting       2.0            2   \n",
            "\n",
            "    Output Ports  \n",
            "0              4  \n",
            "1             12  \n",
            "2              2  \n",
            "3              4  \n",
            "4              6  \n",
            "5              1  \n",
            "6              6  \n",
            "7              4  \n",
            "8              2  \n",
            "9              8  \n",
            "10             2  \n",
            "\n",
            "Total Input and Output Ports Across All Components:\n",
            "Input Ports     52\n",
            "Output Ports    51\n",
            "dtype: int64\n"
          ]
        }
      ]
    },
    {
      "cell_type": "code",
      "source": [
        "import pandas as pd\n",
        "\n",
        "# Load data\n",
        "data = pd.read_csv('/content/processed_dataset.csv')\n",
        "\n",
        "# Prompt user to enter Category and Type\n",
        "category_input = input(\"Enter the Category: \")\n",
        "type_input = input(\"Enter the Type: \")\n",
        "\n",
        "# Filter the data for the specific Category and Type\n",
        "filtered_data = data[(data['Category'] == category_input) & (data['Type'] == type_input)]\n",
        "\n",
        "# Check if there are results, then display Input and Output Ports\n",
        "if not filtered_data.empty:\n",
        "    print(f\"\\nInput and Output Ports for Category: '{category_input}' and Type: '{type_input}':\")\n",
        "    print(filtered_data[['Category', 'Type', 'Input Ports', 'Output Ports']])\n",
        "else:\n",
        "    print(\"\\nNo data found for the given Category and Type.\")\n"
      ],
      "metadata": {
        "colab": {
          "base_uri": "https://localhost:8080/"
        },
        "id": "w4xae7TIQbay",
        "outputId": "b02ac96f-a72c-4cb3-9d57-920a7b13af39"
      },
      "execution_count": 18,
      "outputs": [
        {
          "output_type": "stream",
          "name": "stdout",
          "text": [
            "Enter the Category: PERFORMANCE TEST\n",
            "Enter the Type: Double acting\n",
            "\n",
            "Input and Output Ports for Category: 'PERFORMANCE TEST' and Type: 'Double acting':\n",
            "           Category           Type  Input Ports  Output Ports\n",
            "1  PERFORMANCE TEST  Double acting            2             2\n",
            "3  PERFORMANCE TEST  Double acting            2             2\n"
          ]
        }
      ]
    }
  ]
}