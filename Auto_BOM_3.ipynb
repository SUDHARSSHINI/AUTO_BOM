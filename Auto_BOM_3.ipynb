{
  "nbformat": 4,
  "nbformat_minor": 0,
  "metadata": {
    "colab": {
      "provenance": [],
      "authorship_tag": "ABX9TyNKXJp8pmLxHsJOvtYyE4Y6",
      "include_colab_link": true
    },
    "kernelspec": {
      "name": "python3",
      "display_name": "Python 3"
    },
    "language_info": {
      "name": "python"
    }
  },
  "cells": [
    {
      "cell_type": "markdown",
      "metadata": {
        "id": "view-in-github",
        "colab_type": "text"
      },
      "source": [
        "<a href=\"https://colab.research.google.com/github/SUDHARSSHINI/AUTO_BOM/blob/main/Auto_BOM_3.ipynb\" target=\"_parent\"><img src=\"https://colab.research.google.com/assets/colab-badge.svg\" alt=\"Open In Colab\"/></a>"
      ]
    },
    {
      "cell_type": "markdown",
      "source": [
        "**Data Loading**\n"
      ],
      "metadata": {
        "id": "nzSsLjPVxqRA"
      }
    },
    {
      "cell_type": "code",
      "execution_count": null,
      "metadata": {
        "id": "nHdA404hxBWb"
      },
      "outputs": [],
      "source": [
        "import pandas as pd\n",
        "\n",
        "# Load the dataset\n",
        "data = pd.read_csv('components_data.csv')\n",
        "print(data.head())\n"
      ]
    },
    {
      "cell_type": "markdown",
      "source": [
        "**Data Preprocessing**"
      ],
      "metadata": {
        "id": "tUvQRvjjx211"
      }
    },
    {
      "cell_type": "code",
      "source": [
        "# Check for missing values\n",
        "print(data.isnull().sum())\n",
        "\n",
        "# Fill missing values (forward fill, mean, or drop)\n",
        "data.fillna(method='ffill', inplace=True)\n"
      ],
      "metadata": {
        "id": "nhlvriYTxIdo"
      },
      "execution_count": null,
      "outputs": []
    },
    {
      "cell_type": "code",
      "source": [
        "# target variable\n",
        "X = data.drop('cylinders', axis=1)\n",
        "y = data['cylinders']\n"
      ],
      "metadata": {
        "id": "nu5wLgedxM1y"
      },
      "execution_count": null,
      "outputs": []
    },
    {
      "cell_type": "code",
      "source": [
        "from sklearn.preprocessing import StandardScaler\n",
        "\n",
        "scaler = StandardScaler()\n",
        "X_scaled = scaler.fit_transform(X)\n"
      ],
      "metadata": {
        "id": "325uvkDZxTal"
      },
      "execution_count": null,
      "outputs": []
    },
    {
      "cell_type": "markdown",
      "source": [
        "**Training**"
      ],
      "metadata": {
        "id": "tLwI1SpzyAad"
      }
    },
    {
      "cell_type": "code",
      "source": [
        "from sklearn.model_selection import train_test_split\n",
        "\n",
        "X_train, X_test, y_train, y_test = train_test_split(X_scaled, y, test_size=0.2, random_state=42)\n",
        "from sklearn.ensemble import RandomForestClassifier\n",
        "\n"
      ],
      "metadata": {
        "id": "bR3sJMKLxWfV"
      },
      "execution_count": null,
      "outputs": []
    },
    {
      "cell_type": "markdown",
      "source": [
        "**ML Algorithm**"
      ],
      "metadata": {
        "id": "vqyA4mudyDBI"
      }
    },
    {
      "cell_type": "code",
      "source": [
        "\n",
        "model = RandomForestClassifier(n_estimators=100, random_state=42)\n",
        "model.fit(X_train, y_train)\n"
      ],
      "metadata": {
        "id": "v8I4DUd-xnSC"
      },
      "execution_count": null,
      "outputs": []
    },
    {
      "cell_type": "markdown",
      "source": [
        "**Logic**\n",
        "Objective: Understand the logic behind the steps taken in the machine learning workflow.\n",
        "\n",
        "Steps:\n",
        "Load and Explore the Dataset:\n",
        "\n",
        "Understand the dataset's structure, data types, and features.\n",
        "Clean and Transform Data:\n",
        "\n",
        "Handle missing values to avoid bias in the model.\n",
        "Encode categorical variables to allow the model to interpret them as numerical input.\n",
        "Feature and Target Separation:\n",
        "\n",
        "Separate the features that influence the selection from the target variable, which is the component you want to predict.\n",
        "Scale Features:\n",
        "\n",
        "Scaling helps improve model convergence and performance, especially for algorithms sensitive to the scale of input features.\n",
        "Model Training:\n",
        "\n",
        "Split the data to ensure that the model can be tested on unseen data, providing an estimate of how it will perform in real-world scenarios.\n",
        "Train the model using the training set, allowing it to learn patterns and relationships in the data.\n",
        "Model Evaluation:\n",
        "\n",
        "After training, evaluate the model's performance on the test set using accuracy and other metrics to ensure it generalizes well.\n",
        "Make Predictions:\n",
        "\n",
        "Use the trained model to predict component selection based on new data."
      ],
      "metadata": {
        "id": "hIWCto5hxfge"
      }
    },
    {
      "cell_type": "markdown",
      "source": [
        "**Extract Data from PDF file**"
      ],
      "metadata": {
        "id": "7YGhOSP9yboc"
      }
    },
    {
      "cell_type": "code",
      "source": [
        "!pip install PyPDF2\n",
        "import os\n",
        "import PyPDF2\n",
        "import pandas as pd\n",
        "from google.colab import drive\n",
        "\n",
        "drive.mount('/content/drive')\n",
        "\n",
        "# Function to read PDFs\n",
        "def read_pdf(file_path):\n",
        "    with open(file_path, 'rb') as f:\n",
        "        reader = PyPDF2.PdfReader(f)\n",
        "        text = \"\"\n",
        "        for page in reader.pages:\n",
        "            text += page.extract_text()\n",
        "        return text\n",
        "\n",
        "# Function to extract relevant information from PDF (IR Sensor example)\n",
        "def extract_ir_sensor_info(text):\n",
        "    # Keywords or sections to look for in the PDF\n",
        "    keywords = [\"IR Sensor\", \"Proximity Sensor\", \"Detection Range\", \"Supply Voltage\", \"Temperature Range\"]\n",
        "\n",
        "    # Split text into lines for easier processing\n",
        "    lines = text.split('\\n')\n",
        "\n",
        "    # Store relevant information\n",
        "    sensor_info = {}\n",
        "\n",
        "    for line in lines:\n",
        "        # Check for keywords and extract relevant lines\n",
        "        for keyword in keywords:\n",
        "            if keyword in line:\n",
        "                sensor_info[keyword] = line\n",
        "\n",
        "    return sensor_info\n",
        "\n",
        "# Example usage\n",
        "pdf_path = '/content/drive/MyDrive/Project/ADNA Automation/Electrical component data/omran plc.pdf'\n",
        "pdf_path = '/content/drive/MyDrive/Project/ADNA Automation/Electrical component data/SENSOR /IR SENSOR.pdf'\n",
        "pdf_text = read_pdf(pdf_path)\n",
        "sensor_info = extract_ir_sensor_info(pdf_text)\n",
        "\n",
        "# Display extracted sensor info\n",
        "for key, value in sensor_info.items():\n",
        "    print(f\"{key}: {value}\")\n"
      ],
      "metadata": {
        "colab": {
          "base_uri": "https://localhost:8080/"
        },
        "id": "5oDqtKDuySm4",
        "outputId": "48724387-3f5f-4983-a1d6-0ed93fa21482"
      },
      "execution_count": null,
      "outputs": [
        {
          "output_type": "stream",
          "name": "stdout",
          "text": [
            "Requirement already satisfied: PyPDF2 in /usr/local/lib/python3.10/dist-packages (3.0.1)\n",
            "Drive already mounted at /content/drive; to attempt to forcibly remount, call drive.mount(\"/content/drive\", force_remount=True).\n",
            "IR Sensor:  Specifications of IR Sensors for Industrial Automation  \n",
            "Detection Range: 2. Detection Range : \n",
            "Temperature Range: 5. Operating Temperature Range : \n",
            "Supply Voltage: 6. Supply Voltage : \n"
          ]
        }
      ]
    },
    {
      "cell_type": "code",
      "source": [
        "# Function to select components based on extracted information\n",
        "def select_components(sensor_info):\n",
        "    # Define the criteria for component selection\n",
        "    bom_criteria = {\n",
        "        \"IR Sensor Type\": \"Proximity Sensor\",\n",
        "        \"Detection Range\": \"80 cm\",\n",
        "        \"Supply Voltage\": \"12V to 24V\",\n",
        "        \"Temperature Range\": \"-20°C to 70°C\"\n",
        "    }\n",
        "\n",
        "    # Check if the extracted sensor info matches the criteria\n",
        "    selected_components = {}\n",
        "\n",
        "    for key, value in bom_criteria.items():\n",
        "        if key in sensor_info and value in sensor_info[key]:\n",
        "            selected_components[key] = sensor_info[key]\n",
        "\n",
        "    return selected_components\n",
        "\n",
        "# Example usage\n",
        "selected_bom = select_components(sensor_info)\n",
        "\n",
        "# Display the selected components for the BOM\n",
        "print(\"Selected Components for BOM:\")\n",
        "for key, value in selected_bom.items():\n",
        "    print(f\"{key}: {value}\")\n"
      ],
      "metadata": {
        "colab": {
          "base_uri": "https://localhost:8080/"
        },
        "id": "UKIK7NesyTXV",
        "outputId": "18341c48-241d-4bc5-eeb5-cf7f2d8b76c8"
      },
      "execution_count": null,
      "outputs": [
        {
          "output_type": "stream",
          "name": "stdout",
          "text": [
            "Selected Components for BOM:\n"
          ]
        }
      ]
    },
    {
      "cell_type": "markdown",
      "source": [
        "Storing it in csv file"
      ],
      "metadata": {
        "id": "7OAmcf83yz8H"
      }
    },
    {
      "cell_type": "code",
      "source": [
        "# Function to generate BOM and save to CSV\n",
        "def save_bom_to_csv(selected_bom, file_name='BOM.csv'):\n",
        "    df = pd.DataFrame(list(selected_bom.items()), columns=['Component', 'Details'])\n",
        "    df.to_csv(file_name, index=False)\n",
        "    print(f\"BOM saved to {file_name}\")\n",
        "\n",
        "# Example usage\n",
        "save_bom_to_csv(selected_bom)\n"
      ],
      "metadata": {
        "colab": {
          "base_uri": "https://localhost:8080/"
        },
        "id": "eeHEYXKjyXxE",
        "outputId": "fb475ae2-3b54-4a06-80a9-b8620a6ecd11"
      },
      "execution_count": null,
      "outputs": [
        {
          "output_type": "stream",
          "name": "stdout",
          "text": [
            "BOM saved to BOM.csv\n"
          ]
        }
      ]
    }
  ]
}