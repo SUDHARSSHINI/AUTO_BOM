{
  "nbformat": 4,
  "nbformat_minor": 0,
  "metadata": {
    "colab": {
      "provenance": [],
      "authorship_tag": "ABX9TyOwdwH6wvvZS/4bsqUbf+su",
      "include_colab_link": true
    },
    "kernelspec": {
      "name": "python3",
      "display_name": "Python 3"
    },
    "language_info": {
      "name": "python"
    }
  },
  "cells": [
    {
      "cell_type": "markdown",
      "metadata": {
        "id": "view-in-github",
        "colab_type": "text"
      },
      "source": [
        "<a href=\"https://colab.research.google.com/github/SUDHARSSHINI/AUTO_BOM/blob/main/Input_Output.ipynb\" target=\"_parent\"><img src=\"https://colab.research.google.com/assets/colab-badge.svg\" alt=\"Open In Colab\"/></a>"
      ]
    },
    {
      "cell_type": "code",
      "source": [
        "import pandas as pd\n",
        "from sklearn.model_selection import train_test_split\n",
        "from sklearn.multioutput import MultiOutputRegressor\n",
        "from sklearn.ensemble import RandomForestRegressor\n",
        "from sklearn.metrics import mean_absolute_error\n",
        "from sklearn.preprocessing import LabelEncoder\n",
        "\n",
        "# Load the dataset\n",
        "file_path = '/content/PLC datasheet - Sheet1.csv'\n",
        "data = pd.read_csv(file_path)\n",
        "\n",
        "# Clean column names by stripping any leading or trailing spaces\n",
        "data.columns = data.columns.str.strip()\n",
        "\n",
        "# Data Cleaning\n",
        "# Extract numeric values from \"Input port\" and \"Output port\" columns and handle any non-numeric text\n",
        "data['Input port'] = data['Input port'].str.extract('(\\d+)').astype(float)\n",
        "data['Output port'] = data['Output port'].str.extract('(\\d+)').astype(float)\n",
        "\n",
        "# Encode the \"model number\" column as it's the only feature we are using for prediction\n",
        "label_encoder = LabelEncoder()\n",
        "data['model number'] = label_encoder.fit_transform(data['model number'])\n",
        "\n",
        "# Define features and target variables\n",
        "X = data[['model number']]\n",
        "y = data[['Input port', 'Output port']]\n",
        "\n",
        "# Split data into training and testing sets\n",
        "X_train, X_test, y_train, y_test = train_test_split(X, y, test_size=0.2, random_state=42)\n",
        "\n",
        "# Multi-output model training for predicting both input and output ports\n",
        "multi_target_model = MultiOutputRegressor(RandomForestRegressor(random_state=42))\n",
        "multi_target_model.fit(X_train, y_train)\n",
        "\n",
        "# Predictions\n",
        "y_pred = multi_target_model.predict(X_test)\n",
        "\n",
        "# Calculate MAE for both predictions\n",
        "mae_input = mean_absolute_error(y_test['Input port'], y_pred[:, 0])\n",
        "mae_output = mean_absolute_error(y_test['Output port'], y_pred[:, 1])\n",
        "\n",
        "print(\"Mean Absolute Error for Input port prediction:\", mae_input)\n",
        "print(\"Mean Absolute Error for Output port prediction:\", mae_output)\n",
        "\n",
        "# Get model number from user input and predict input/output ports\n",
        "user_model_number = input(\"Enter the model number to predict Input and Output ports: \")\n",
        "\n",
        "# Check if the model number is in the original data\n",
        "if user_model_number in label_encoder.classes_:\n",
        "    # Encode the model number\n",
        "    encoded_model_number = label_encoder.transform([user_model_number])[0]\n",
        "    # Create a DataFrame to match the feature format\n",
        "    user_input_df = pd.DataFrame({'model number': [encoded_model_number]})\n",
        "    # Make predictions\n",
        "    predicted_ports = multi_target_model.predict(user_input_df)\n",
        "\n",
        "    print(f\"Predicted Input port for model {user_model_number}: {predicted_ports[0][0]}\")\n",
        "    print(f\"Predicted Output port for model {user_model_number}: {predicted_ports[0][1]}\")\n",
        "else:\n",
        "    print(f\"The model number '{user_model_number}' is not found in the dataset.\")\n"
      ],
      "metadata": {
        "colab": {
          "base_uri": "https://localhost:8080/"
        },
        "id": "CBRYaTwcgkOn",
        "outputId": "172979e0-adbb-4e0b-fa8b-437c521029de"
      },
      "execution_count": 6,
      "outputs": [
        {
          "output_type": "stream",
          "name": "stdout",
          "text": [
            "Mean Absolute Error for Input port prediction: 1.2088888888888887\n",
            "Mean Absolute Error for Output port prediction: 1.2088888888888887\n",
            "Enter the model number to predict Input and Output ports: NX1P2-9024DT\n",
            "Predicted Input port for model NX1P2-9024DT: 15.88\n",
            "Predicted Output port for model NX1P2-9024DT: 11.08\n"
          ]
        }
      ]
    }
  ]
}