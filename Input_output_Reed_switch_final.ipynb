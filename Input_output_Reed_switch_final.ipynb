{
  "nbformat": 4,
  "nbformat_minor": 0,
  "metadata": {
    "colab": {
      "provenance": [],
      "authorship_tag": "ABX9TyOKbWFfh5ph12dEnryDi5lY",
      "include_colab_link": true
    },
    "kernelspec": {
      "name": "python3",
      "display_name": "Python 3"
    },
    "language_info": {
      "name": "python"
    }
  },
  "cells": [
    {
      "cell_type": "markdown",
      "metadata": {
        "id": "view-in-github",
        "colab_type": "text"
      },
      "source": [
        "<a href=\"https://colab.research.google.com/github/SUDHARSSHINI/AUTO_BOM/blob/main/Input_output_Reed_switch_final.ipynb\" target=\"_parent\"><img src=\"https://colab.research.google.com/assets/colab-badge.svg\" alt=\"Open In Colab\"/></a>"
      ]
    },
    {
      "cell_type": "code",
      "execution_count": null,
      "metadata": {
        "colab": {
          "base_uri": "https://localhost:8080/"
        },
        "id": "KDZieHyE4L8x",
        "outputId": "a6d0df5a-285d-4a1c-f5e7-c3081f472629"
      },
      "outputs": [
        {
          "output_type": "stream",
          "name": "stdout",
          "text": [
            "Number of columns in the dataset: 9\n",
            "Processed Data:\n",
            "           Category                Model   Description Quantity Unit  \\\n",
            "0                                                                      \n",
            "1  PERFORMANCE TEST    MGPM16-125AZ-M9PL      GUIDE CY      1.0  NOS   \n",
            "2  PERFORMANCE TEST       AS1201F-M5-06A  FLOW CONTROL      2.0  NOS   \n",
            "3  PERFORMANCE TEST  CD85N25-150C-B-M9PL     PENCEL CY      1.0  NOS   \n",
            "4  PERFORMANCE TEST       AS2201F-01-08A  FLOW CONTROL      2.0  NOS   \n",
            "\n",
            "            Type  Output Ports  Input Ports Extra Column  \n",
            "0                            0            0               \n",
            "1  Double acting             2            2               \n",
            "2                            0            0               \n",
            "3  Double acting             2            2               \n",
            "4                            0            0               \n",
            "Processed data saved as '/content/processed_dataset.csv'\n"
          ]
        },
        {
          "output_type": "stream",
          "name": "stderr",
          "text": [
            "<ipython-input-1-335d16730cfb>:32: FutureWarning: Setting an item of incompatible dtype is deprecated and will raise an error in a future version of pandas. Value '' has dtype incompatible with float64, please explicitly cast to a compatible dtype first.\n",
            "  df.fillna('', inplace=True)\n"
          ]
        }
      ],
      "source": [
        "# Import necessary libraries\n",
        "import pandas as pd\n",
        "import re\n",
        "\n",
        "# Load the data from the file path (replace 'file_path' with your actual path in Colab)\n",
        "file_path = '/content/ADNA data.xlsx'\n",
        "df = pd.read_excel(file_path, header=None)  # Read without headers as the data seems unstructured\n",
        "\n",
        "# Check the number of columns in the dataframe to determine the exact structure\n",
        "print(f\"Number of columns in the dataset: {len(df.columns)}\")\n",
        "\n",
        "# Assign column headers based on the number of columns detected\n",
        "# Assuming there are 9 columns here, if not, adjust headers to match the count\n",
        "df.columns = [\"Category\", \"Model\", \"Description\", \"Quantity\", \"Unit\", \"Type\", \"Output Ports\", \"Input Ports\", \"Extra Column\"]\n",
        "\n",
        "# Step 2: Forward fill 'Category' column to fill in missing categories\n",
        "df['Category'] = df['Category'].replace('', pd.NA).ffill()\n",
        "\n",
        "# Step 3: Convert 'Output Ports' and 'Input Ports' to numeric values\n",
        "def extract_number(port_str):\n",
        "    \"\"\"Extracts the first integer from a string if present, otherwise returns 0.\"\"\"\n",
        "    if isinstance(port_str, str):\n",
        "        numbers = [int(s) for s in re.findall(r'\\b\\d+\\b', port_str)]\n",
        "        return numbers[0] if numbers else 0\n",
        "    return 0\n",
        "\n",
        "# Apply the extraction function\n",
        "df['Output Ports'] = df['Output Ports'].apply(extract_number)\n",
        "df['Input Ports'] = df['Input Ports'].apply(extract_number)\n",
        "\n",
        "# Fill other missing values with empty strings for a cleaner dataset\n",
        "df.fillna('', inplace=True)\n",
        "\n",
        "# Display the processed data (optional)\n",
        "print(\"Processed Data:\")\n",
        "print(df.head())\n",
        "\n",
        "# Step 4: Save the processed data to a new CSV file\n",
        "processed_file_path = '/content/processed_dataset.csv'\n",
        "df.to_csv(processed_file_path, index=False)\n",
        "print(f\"Processed data saved as '{processed_file_path}'\")\n"
      ]
    },
    {
      "cell_type": "markdown",
      "source": [],
      "metadata": {
        "id": "7dbNCjikTOjR"
      }
    },
    {
      "cell_type": "code",
      "source": [
        "import pandas as pd\n",
        "\n",
        "# Sample data setup (replace this with your actual data load step)\n",
        "data = pd.read_csv('/content/processed_dataset.csv')  # Replace 'your_data.csv' with your file path\n",
        "\n",
        "# Step 1: Clean and preprocess data\n",
        "# Remove rows where all columns are NaN\n",
        "data = data.dropna(how='all')\n",
        "\n",
        "# Fill missing values in specific columns with appropriate defaults\n",
        "data['Quantity'] = data['Quantity'].fillna(0)\n",
        "data['Input Ports'] = data['Input Ports'].fillna(0)\n",
        "data['Output Ports'] = data['Output Ports'].fillna(0)\n",
        "data['Description'] = data['Description'].fillna('Unknown')\n",
        "\n",
        "# Ensure numeric columns are of correct type\n",
        "data['Quantity'] = data['Quantity'].astype(int)\n",
        "data['Input Ports'] = data['Input Ports'].astype(int)\n",
        "data['Output Ports'] = data['Output Ports'].astype(int)\n",
        "\n",
        "# Step 2: Filter for Guide Cylinders and other components\n",
        "guide_cylinders = data[data['Description'].str.contains('GUIDE CY', case=False, na=False)]\n",
        "\n",
        "# Step 3: Summarize data\n",
        "# Summarize Guide Cylinders by Category, Type, and Quantity\n",
        "guide_summary = guide_cylinders.groupby(['Category', 'Type']).agg({\n",
        "    'Quantity': 'sum',\n",
        "    'Input Ports': 'sum',\n",
        "    'Output Ports': 'sum'\n",
        "}).reset_index()\n",
        "\n",
        "# Display the Guide Cylinder summary\n",
        "print(\"\\nGuide Cylinder Summary:\")\n",
        "print(guide_summary)\n",
        "\n",
        "# Step 4: Additional Analysis\n",
        "# Count the total components by Type and Category\n",
        "component_summary = data.groupby(['Category', 'Type']).agg({\n",
        "    'Quantity': 'sum',\n",
        "    'Input Ports': 'sum',\n",
        "    'Output Ports': 'sum'\n",
        "}).reset_index()\n",
        "\n",
        "# Display the component summary\n",
        "print(\"\\nSummary of All Components by Category and Type:\")\n",
        "print(component_summary)\n"
      ],
      "metadata": {
        "colab": {
          "base_uri": "https://localhost:8080/"
        },
        "id": "4cLOAqLXL-QJ",
        "outputId": "5d594153-2d19-458e-f3f1-6772b5f69d98"
      },
      "execution_count": null,
      "outputs": [
        {
          "output_type": "stream",
          "name": "stdout",
          "text": [
            "\n",
            "Guide Cylinder Summary:\n",
            "                Category           Type  Quantity  Input Ports  Output Ports\n",
            "0              LEAK TEST  Double acting         3            4             4\n",
            "1       PERFORMANCE TEST  Double acting         1            2             2\n",
            "2  PISTON PICK AND PLACE  Double acting         1            2             2\n",
            "3                   SEAL  Double acting         2            4             4\n",
            "4            STRUCK TEST  Double acting         3            4             4\n",
            "\n",
            "Summary of All Components by Category and Type:\n",
            "                 Category                 Type  Quantity  Input Ports  \\\n",
            "0             BIN FEEDING        Double acting         2            4   \n",
            "1               LEAK TEST        Double acting        17           12   \n",
            "2          PALLET LIFTING        Double acting         9            2   \n",
            "3        PERFORMANCE TEST        Double acting         2            4   \n",
            "4   PISTON PICK AND PLACE        Double acting         3            6   \n",
            "5   PISTON PICK AND PLACE  servo/stepper motor         1            2   \n",
            "6        SCREW TIGHTENING        Double acting         3            6   \n",
            "7                    SEAL        Double acting         2            4   \n",
            "8                    SEAL        servo/stepper         1            2   \n",
            "9             STRUCK TEST        Double acting         6            8   \n",
            "10          TRANSFER UNIT        Double acting         2            2   \n",
            "\n",
            "    Output Ports  \n",
            "0              4  \n",
            "1             12  \n",
            "2              2  \n",
            "3              4  \n",
            "4              6  \n",
            "5              1  \n",
            "6              6  \n",
            "7              4  \n",
            "8              2  \n",
            "9              8  \n",
            "10             2  \n"
          ]
        }
      ]
    },
    {
      "cell_type": "code",
      "source": [
        "import pandas as pd\n",
        "\n",
        "# Assuming data is already loaded from processed_dataset.csv\n",
        "data = pd.read_csv('/content/processed_dataset.csv')\n",
        "\n",
        "# Step 1: Summarize total input and output ports across categories\n",
        "port_summary = data.groupby(['Category', 'Type']).agg({\n",
        "    'Quantity': 'sum',\n",
        "    'Input Ports': 'sum',\n",
        "    'Output Ports': 'sum'\n",
        "}).reset_index()\n",
        "\n",
        "# Step 2: Calculate total input and output ports across all categories and types\n",
        "total_ports = port_summary[['Input Ports', 'Output Ports']].sum()\n",
        "\n",
        "# Display the summary\n",
        "print(\"Summary of Input and Output Ports by Category and Type:\")\n",
        "print(port_summary)\n",
        "\n",
        "# Display total input and output ports\n",
        "print(\"\\nTotal Input and Output Ports Across All Components:\")\n",
        "print(total_ports)\n"
      ],
      "metadata": {
        "colab": {
          "base_uri": "https://localhost:8080/"
        },
        "id": "BqueQfW1OVdR",
        "outputId": "c394cdbf-db42-4916-ab10-5750e6bc48a5"
      },
      "execution_count": null,
      "outputs": [
        {
          "output_type": "stream",
          "name": "stdout",
          "text": [
            "Summary of Input and Output Ports by Category and Type:\n",
            "                 Category                 Type  Quantity  Input Ports  \\\n",
            "0             BIN FEEDING        Double acting       2.0            4   \n",
            "1               LEAK TEST        Double acting      17.0           12   \n",
            "2          PALLET LIFTING        Double acting       9.0            2   \n",
            "3        PERFORMANCE TEST        Double acting       2.0            4   \n",
            "4   PISTON PICK AND PLACE        Double acting       3.0            6   \n",
            "5   PISTON PICK AND PLACE  servo/stepper motor       1.0            2   \n",
            "6        SCREW TIGHTENING        Double acting       3.0            6   \n",
            "7                    SEAL        Double acting       2.0            4   \n",
            "8                    SEAL        servo/stepper       1.0            2   \n",
            "9             STRUCK TEST        Double acting       6.0            8   \n",
            "10          TRANSFER UNIT        Double acting       2.0            2   \n",
            "\n",
            "    Output Ports  \n",
            "0              4  \n",
            "1             12  \n",
            "2              2  \n",
            "3              4  \n",
            "4              6  \n",
            "5              1  \n",
            "6              6  \n",
            "7              4  \n",
            "8              2  \n",
            "9              8  \n",
            "10             2  \n",
            "\n",
            "Total Input and Output Ports Across All Components:\n",
            "Input Ports     52\n",
            "Output Ports    51\n",
            "dtype: int64\n"
          ]
        }
      ]
    },
    {
      "cell_type": "code",
      "source": [
        "import pandas as pd\n",
        "\n",
        "# Load the dataset\n",
        "file_path = '/content/processed_dataset.csv'\n",
        "data = pd.read_csv(file_path)\n",
        "\n",
        "# Function to calculate input and output ports for a specific model\n",
        "def calculate_ports_for_model(data, model_name):\n",
        "    # Filter data for the specified model\n",
        "    model_data = data[data['Model'] == model_name]\n",
        "\n",
        "    # Check if the model exists in the dataset\n",
        "    if model_data.empty:\n",
        "        return None, None\n",
        "\n",
        "    # Sum the input and output ports for the model\n",
        "    total_input_ports = model_data['Input Ports'].sum()\n",
        "    total_output_ports = model_data['Output Ports'].sum()\n",
        "\n",
        "    # Return the results\n",
        "    return total_input_ports, total_output_ports\n",
        "\n",
        "# Prompt user to enter a model name\n",
        "model_name = input(\"Enter the model name: \")\n",
        "\n",
        "# Calculate input and output ports\n",
        "input_ports, output_ports = calculate_ports_for_model(data, model_name)\n",
        "\n",
        "# Display the results or notify if the model was not found\n",
        "if input_ports is not None and output_ports is not None:\n",
        "    print(f\"Total input reed switches for model {model_name}: {input_ports}\")\n",
        "    print(f\"Total output ports for cylinders for model {model_name}: {output_ports}\")\n",
        "else:\n",
        "    print(f\"Model '{model_name}' not found in the dataset.\")\n"
      ],
      "metadata": {
        "colab": {
          "base_uri": "https://localhost:8080/"
        },
        "id": "9itPUDGLZB3l",
        "outputId": "bdc73dc1-de21-48ba-ec83-10f876f4fdae"
      },
      "execution_count": 8,
      "outputs": [
        {
          "output_type": "stream",
          "name": "stdout",
          "text": [
            "Enter the model name: LEFS25EA-500-R5CE17\n",
            "Total input reed switches for model LEFS25EA-500-R5CE17: 4\n",
            "Total output ports for cylinders for model LEFS25EA-500-R5CE17: 3\n"
          ]
        }
      ]
    },
    {
      "cell_type": "code",
      "source": [
        "import pandas as pd\n",
        "\n",
        "# Load the dataset\n",
        "file_path = '/content/processed_dataset.csv'\n",
        "data = pd.read_csv(file_path)\n",
        "\n",
        "# Function to calculate input and output ports for a specific model with troubleshooting steps\n",
        "def calculate_ports_for_model(data, model_name):\n",
        "    # Filter data for the specified model and display it for verification\n",
        "    model_data = data[data['Model'] == model_name]\n",
        "    print(\"Filtered data for model:\", model_name)\n",
        "    print(model_data)  # Display filtered rows to verify correctness\n",
        "\n",
        "    # Check if the model exists in the dataset\n",
        "    if model_data.empty:\n",
        "        return None, None\n",
        "\n",
        "    # Sum the input and output ports for the model\n",
        "    total_input_ports = model_data['Input Ports'].sum()\n",
        "    total_output_ports = model_data['Output Ports'].sum()\n",
        "\n",
        "    # Return the results\n",
        "    return total_input_ports, total_output_ports\n",
        "\n",
        "# Test the function with the specified model\n",
        "model_name = \"LEFS25EA-500-R5CE17\"\n",
        "input_ports, output_ports = calculate_ports_for_model(data, model_name)\n",
        "\n",
        "# Display the results or notify if the model was not found\n",
        "if input_ports is not None and output_ports is not None:\n",
        "    print(f\"Total input reed switches for model {model_name}: {input_ports}\")\n",
        "    print(f\"Total output ports for cylinders for model {model_name}: {output_ports}\")\n",
        "else:\n",
        "    print(f\"Model '{model_name}' not found in the dataset.\")\n"
      ],
      "metadata": {
        "colab": {
          "base_uri": "https://localhost:8080/"
        },
        "id": "RXQND8mdaYFQ",
        "outputId": "403a51c8-3e47-41e1-beaf-28c8dd485bcc"
      },
      "execution_count": 9,
      "outputs": [
        {
          "output_type": "stream",
          "name": "stdout",
          "text": [
            "Filtered data for model: LEFS25EA-500-R5CE17\n",
            "                 Category                Model   Description  Quantity Unit  \\\n",
            "16  PISTON PICK AND PLACE  LEFS25EA-500-R5CE17  ELE ACTUATOR       1.0  NaN   \n",
            "26                   SEAL  LEFS25EA-500-R5CE17  ELE ACTUATOR       1.0  NOS   \n",
            "\n",
            "                   Type  Output Ports  Input Ports Extra Column  \n",
            "16  servo/stepper motor             1            2          NaN  \n",
            "26        servo/stepper             2            2          NaN  \n",
            "Total input reed switches for model LEFS25EA-500-R5CE17: 4\n",
            "Total output ports for cylinders for model LEFS25EA-500-R5CE17: 3\n"
          ]
        }
      ]
    },
    {
      "cell_type": "code",
      "source": [
        "import pandas as pd\n",
        "\n",
        "# Load the dataset\n",
        "file_path = '/content/processed_dataset.csv'\n",
        "data = pd.read_csv(file_path)\n",
        "\n",
        "# Function to calculate input and output ports for a specific model and category\n",
        "def calculate_ports_for_model_category(data, model_name, category_name):\n",
        "    # Filter data for the specified model and category and display it for verification\n",
        "    model_data = data[(data['Model'] == model_name) & (data['Category'] == category_name)]\n",
        "    print(\"Filtered data for model:\", model_name, \"and category:\", category_name)\n",
        "    print(model_data)  # Display filtered rows to verify correctness\n",
        "\n",
        "    # Check if the filtered data is empty\n",
        "    if model_data.empty:\n",
        "        return None, None\n",
        "\n",
        "    # Sum the input and output ports for the specified model and category\n",
        "    total_input_ports = model_data['Input Ports'].sum()\n",
        "    total_output_ports = model_data['Output Ports'].sum()\n",
        "\n",
        "    # Return the results\n",
        "    return total_input_ports, total_output_ports\n",
        "\n",
        "# Prompt user to enter a model name and category name\n",
        "model_name = input(\"Enter the model name: \")\n",
        "category_name = input(\"Enter the category name: \")\n",
        "\n",
        "# Calculate input and output ports\n",
        "input_ports, output_ports = calculate_ports_for_model_category(data, model_name, category_name)\n",
        "\n",
        "# Display the results or notify if the model and category were not found\n",
        "if input_ports is not None and output_ports is not None:\n",
        "    print(f\"Total input reed switches for model '{model_name}' in category '{category_name}': {input_ports}\")\n",
        "    print(f\"Total output ports for cylinders for model '{model_name}' in category '{category_name}': {output_ports}\")\n",
        "else:\n",
        "    print(f\"Model '{model_name}' with category '{category_name}' not found in the dataset.\")\n"
      ],
      "metadata": {
        "colab": {
          "base_uri": "https://localhost:8080/"
        },
        "id": "0GyQBeZiaak-",
        "outputId": "d84d4608-cf84-4e90-a4de-e72ade8aa2ae"
      },
      "execution_count": 10,
      "outputs": [
        {
          "output_type": "stream",
          "name": "stdout",
          "text": [
            "Enter the model name: LEFS25EA-500-R5CE17\n",
            "Enter the category name: PISTON PICK AND PLACE\n",
            "Filtered data for model: LEFS25EA-500-R5CE17 and category: PISTON PICK AND PLACE\n",
            "                 Category                Model   Description  Quantity Unit  \\\n",
            "16  PISTON PICK AND PLACE  LEFS25EA-500-R5CE17  ELE ACTUATOR       1.0  NaN   \n",
            "\n",
            "                   Type  Output Ports  Input Ports Extra Column  \n",
            "16  servo/stepper motor             1            2          NaN  \n",
            "Total input reed switches for model 'LEFS25EA-500-R5CE17' in category 'PISTON PICK AND PLACE': 2\n",
            "Total output ports for cylinders for model 'LEFS25EA-500-R5CE17' in category 'PISTON PICK AND PLACE': 1\n"
          ]
        }
      ]
    },
    {
      "cell_type": "code",
      "source": [],
      "metadata": {
        "id": "Xq_hCk1Oa-0r"
      },
      "execution_count": null,
      "outputs": []
    }
  ]
}